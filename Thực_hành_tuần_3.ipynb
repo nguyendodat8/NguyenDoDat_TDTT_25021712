{
  "cells": [
    {
      "cell_type": "code",
      "execution_count": null,
      "metadata": {},
      "outputs": [
        {
          "name": "stdout",
          "output_type": "stream",
          "text": [
            "Các chữ số đảo ngược là:\n",
            "4\n"
          ]
        }
      ],
      "source": [
        "n = int(input('Nhập số nguyên n'))\n",
        "reversed_digits = str(abs(n))[::-1]\n",
        "print(\"Các chữ số đảo ngược là:\")\n",
        "for digit in reversed_digits:\n",
        "    print(digit)"
      ]
    },
    {
      "cell_type": "code",
      "execution_count": 21,
      "metadata": {},
      "outputs": [
        {
          "name": "stdout",
          "output_type": "stream",
          "text": [
            "Sau khi hoán đổi:\n",
            "a= 2\n",
            "b= 2\n"
          ]
        }
      ],
      "source": [
        "a = int(input('Nhập số nguyên a:'))\n",
        "b = int(input('Nhập số nguyên b:'))\n",
        "a = a ^ b\n",
        "b = a ^ b\n",
        "a = a ^ b\n",
        "print('Sau khi hoán đổi:')\n",
        "print('a=',a)\n",
        "print('b=',b)"
      ]
    },
    {
      "cell_type": "code",
      "execution_count": 29,
      "metadata": {},
      "outputs": [
        {
          "name": "stdout",
          "output_type": "stream",
          "text": [
            "4 là lũy thừa của 2\n"
          ]
        }
      ],
      "source": [
        "def is_power_of_two(n: int) -> bool:\n",
        "    return n > 0 and (n & (n - 1)) == 0\n",
        "\n",
        "# Nhập số từ bàn phím\n",
        "n = int(input(\"Nhập số nguyên: \"))\n",
        "\n",
        "if is_power_of_two(n):\n",
        "    print(f\"{n} là lũy thừa của 2\")\n",
        "else:\n",
        "    print(f\"{n} không phải là lũy thừa của 2\")"
      ]
    },
    {
      "cell_type": "code",
      "execution_count": 22,
      "metadata": {},
      "outputs": [
        {
          "name": "stdout",
          "output_type": "stream",
          "text": [
            "1\n"
          ]
        }
      ],
      "source": [
        "import math\n",
        "m = int(input('Nhập số nguyên m:'))\n",
        "n = int(input('Nhập số nguyên n:'))\n",
        "thương = m/n\n",
        "ket_qua = math.floor(thương)\n",
        "print(ket_qua)"
      ]
    },
    {
      "cell_type": "code",
      "execution_count": 23,
      "metadata": {},
      "outputs": [
        {
          "name": "stdout",
          "output_type": "stream",
          "text": [
            "2\n"
          ]
        }
      ],
      "source": [
        "import math\n",
        "m = int(input('Nhập số nguyên m:'))\n",
        "n = int(input('Nhập số nguyên n:'))\n",
        "thương = m/n\n",
        "ket_qua = math.ceil(thương)\n",
        "print(ket_qua)\n"
      ]
    },
    {
      "cell_type": "code",
      "execution_count": 24,
      "metadata": {
        "colab": {
          "base_uri": "https://localhost:8080/"
        },
        "id": "TckL9HDajtld",
        "outputId": "2f583c82-7f64-4a15-e358-d93c5d2f5636"
      },
      "outputs": [
        {
          "name": "stdout",
          "output_type": "stream",
          "text": [
            "Odd\n"
          ]
        }
      ],
      "source": [
        "x = int(input('Nhập số x:'))\n",
        "if x%2 == 0:\n",
        "  print('Even')\n",
        "else:\n",
        "  print('Odd')"
      ]
    },
    {
      "cell_type": "code",
      "execution_count": 26,
      "metadata": {
        "colab": {
          "base_uri": "https://localhost:8080/"
        },
        "id": "hU0X-TpUkbDD",
        "outputId": "25198ca9-e523-4952-8648-0140b02a5457"
      },
      "outputs": [
        {
          "name": "stdout",
          "output_type": "stream",
          "text": [
            "No\n"
          ]
        }
      ],
      "source": [
        "a = int(input('Nhập số nguyên a:'))\n",
        "b = int(input('Nhập số nguyên b:'))\n",
        "if a<0 and b<0:\n",
        "  print('Yes')\n",
        "else:\n",
        "  print('No')"
      ]
    },
    {
      "cell_type": "code",
      "execution_count": null,
      "metadata": {
        "colab": {
          "base_uri": "https://localhost:8080/"
        },
        "id": "oOjP0HHvlAgt",
        "outputId": "926a26ee-766d-41b9-c430-e9ee73f50d52"
      },
      "outputs": [
        {
          "name": "stdout",
          "output_type": "stream",
          "text": [
            "False\n"
          ]
        }
      ],
      "source": [
        "a = input('Nhập chuỗi a:')\n",
        "b = input('Nhập chuỗi b:')\n",
        "if len(a)>len(b):\n",
        "  print(True)\n",
        "else:\n",
        "  print(False)"
      ]
    },
    {
      "cell_type": "code",
      "execution_count": null,
      "metadata": {
        "colab": {
          "base_uri": "https://localhost:8080/"
        },
        "id": "Rf1GM83OmQiU",
        "outputId": "125b1ee7-09ce-46f2-9d4c-b5193798e22b"
      },
      "outputs": [
        {
          "name": "stdout",
          "output_type": "stream",
          "text": [
            "No\n"
          ]
        }
      ],
      "source": [
        "a = int(input('Nhập số nguyên a:'))\n",
        "b = int(input('Nhập số nguyên b:'))\n",
        "c = int(input('Nhập số nguyên c:'))\n",
        "if a<=0 or b<=0 or c<=0:\n",
        "  print('Lỗi')\n",
        "elif (a+b>c) and (a+c>b) and (b+c>a) :\n",
        "  print('Yes')\n",
        "else:\n",
        "  print('No')"
      ]
    },
    {
      "cell_type": "code",
      "execution_count": null,
      "metadata": {
        "colab": {
          "base_uri": "https://localhost:8080/"
        },
        "id": "43VURMzrp--Y",
        "outputId": "324cbb92-65ac-4da1-b2dd-eae60ddcdc0b"
      },
      "outputs": [
        {
          "name": "stdout",
          "output_type": "stream",
          "text": [
            "Số lớn nhất là: 3\n"
          ]
        }
      ],
      "source": [
        "a = int(input('Nhập số nguyên a:'))\n",
        "b = int(input('Nhập số nguyên b:'))\n",
        "c = int(input('Nhập số nguyên c:'))\n",
        "d = int(input('Nhập số nguyên d:'))\n",
        "if a>b and a>c and a>d:\n",
        "  print('Số lớn nhất là:',a)\n",
        "elif b>c and b>a and b>d:\n",
        "  print('Số lớn nhất là:',b)\n",
        "elif c>a and c>b and c>d:\n",
        "  print('Số lớn nhất là:',c)\n",
        "else:\n",
        "  print('Số lớn nhất là:',d)"
      ]
    },
    {
      "cell_type": "code",
      "execution_count": null,
      "metadata": {
        "colab": {
          "base_uri": "https://localhost:8080/"
        },
        "id": "4JpK7z9Luyan",
        "outputId": "c912daed-1902-40c5-d986-44208f88219b"
      },
      "outputs": [
        {
          "name": "stdout",
          "output_type": "stream",
          "text": [
            "Tam giác thường\n"
          ]
        }
      ],
      "source": [
        "a = int(input('Nhập số nguyên a:'))\n",
        "b = int(input('Nhập số nguyên b:'))\n",
        "c = int(input('Nhập số nguyên c:'))\n",
        "if a<0 or b<0 or c<0:\n",
        "  print('Lỗi')\n",
        "elif (a+b<=c) and (a+c<=b) and (b+c<=a) :\n",
        "  print('Không phải tam giác')\n",
        "else:\n",
        "  if a==b==c:\n",
        "    print('Tam giác đều')\n",
        "  elif a==b or a==c or b==c:\n",
        "    print('Tam giác cân')\n",
        "  else:\n",
        "    print('Tam giác thường')"
      ]
    },
    {
      "cell_type": "code",
      "execution_count": null,
      "metadata": {
        "colab": {
          "base_uri": "https://localhost:8080/"
        },
        "id": "uQw1d3Sftinj",
        "outputId": "74c29205-16ee-4752-adfc-a826d5d02bfa"
      },
      "outputs": [
        {
          "name": "stdout",
          "output_type": "stream",
          "text": [
            "Yes\n"
          ]
        }
      ],
      "source": [
        "n = int(input('Nhập năm cần kiểm tra:'))\n",
        "if n%400 == 0 or (n%4 == 0 and n%100 !=0):\n",
        "  print('Yes')\n",
        "else:\n",
        "  print('No')\n"
      ]
    },
    {
      "cell_type": "code",
      "execution_count": null,
      "metadata": {
        "colab": {
          "base_uri": "https://localhost:8080/"
        },
        "id": "or7NfzvCwvRf",
        "outputId": "94a1f635-9483-4ee3-cfa4-2d62eb915514"
      },
      "outputs": [
        {
          "name": "stdout",
          "output_type": "stream",
          "text": [
            "Số tiền phải trả: 67500\n"
          ]
        }
      ],
      "source": [
        "Kwh = int(input('Nhập số điện tiêu thụ:'))\n",
        "if Kwh<0:\n",
        "  print('Lỗi')\n",
        "elif 0<=Kwh<=50:\n",
        "  tien_dien = 1500*Kwh\n",
        "elif 51<=Kwh<=100:\n",
        "  tien_dien = 1500*50 + 2000*(Kwh-50)\n",
        "else:\n",
        "  tien_dien = 1500*50 + 2000*50 + 3000*(Kwh-100)\n",
        "print('Số tiền phải trả:',tien_dien)"
      ]
    },
    {
      "cell_type": "code",
      "execution_count": null,
      "metadata": {
        "colab": {
          "base_uri": "https://localhost:8080/"
        },
        "id": "CSSmJBiy0X8q",
        "outputId": "a6f9cc12-8512-4cea-a548-a72451a08252"
      },
      "outputs": [
        {
          "name": "stdout",
          "output_type": "stream",
          "text": [
            "Nghiệm của phương trình là: -0.22\n"
          ]
        }
      ],
      "source": [
        "a = float(input('Nhập hệ số a:'))\n",
        "b = float(input('Nhập hệ số b:'))\n",
        "if a ==0 and b==0:\n",
        "  print('Vô số nghiệm')\n",
        "elif a==0 and b!=0:\n",
        "  print('Vô nghiệm')\n",
        "else:\n",
        " nghiem = -b/a\n",
        " nghiem_pt = round(nghiem,2)\n",
        " print('Nghiệm của phương trình là:', nghiem_pt)\n"
      ]
    },
    {
      "cell_type": "code",
      "execution_count": null,
      "metadata": {
        "colab": {
          "base_uri": "https://localhost:8080/"
        },
        "id": "JhOEYY6x2Fy8",
        "outputId": "7d4eae47-ade0-4d40-90d0-b70dc3a8b0d9"
      },
      "outputs": [
        {
          "name": "stdout",
          "output_type": "stream",
          "text": [
            "Giỏi\n"
          ]
        }
      ],
      "source": [
        "diem_Tb = float(input('Nhập điểm TB:'))\n",
        "if diem_Tb >= 8.0:\n",
        "  print('Giỏi')\n",
        "elif diem_Tb >= 6.5:\n",
        "  print('Khá')\n",
        "elif diem_Tb >= 5.0:\n",
        "  print('Trung bình')\n",
        "else:\n",
        "  print('Yếu')"
      ]
    },
    {
      "cell_type": "code",
      "execution_count": 27,
      "metadata": {},
      "outputs": [
        {
          "name": "stdout",
          "output_type": "stream",
          "text": [
            "4 5 5\n"
          ]
        }
      ],
      "source": [
        "x = float(input(\"Nhập vào số thực: \"))\n",
        "nguyen = int(x)  # phần nguyên (cắt bỏ thập phân)\n",
        "phan_thap_phan = x - nguyen\n",
        "if x >= 0:\n",
        "    floor_val = nguyen\n",
        "else:\n",
        "    if phan_thap_phan == 0:\n",
        "        floor_val = nguyen\n",
        "    else:\n",
        "        floor_val = nguyen - 1\n",
        "if x >= 0:\n",
        "    if phan_thap_phan == 0:\n",
        "        ceil_val = nguyen\n",
        "    else:\n",
        "        ceil_val = nguyen + 1\n",
        "else:\n",
        "    ceil_val = nguyen\n",
        "if x >= 0:\n",
        "    if phan_thap_phan >= 0.5:\n",
        "        round_val = nguyen + 1\n",
        "    else:\n",
        "        round_val = nguyen\n",
        "else:\n",
        "    if abs(phan_thap_phan) >= 0.5:\n",
        "        round_val = nguyen - 1\n",
        "    else:\n",
        "        round_val = nguyen\n",
        "\n",
        "print(floor_val, ceil_val, round_val)"
      ]
    },
    {
      "cell_type": "code",
      "execution_count": null,
      "metadata": {},
      "outputs": [
        {
          "name": "stdout",
          "output_type": "stream",
          "text": [
            "Tam giác thường\n"
          ]
        }
      ],
      "source": [
        "a = int(input('Nhập số nguyên a:'))\n",
        "b = int(input('Nhập số nguyên b:'))\n",
        "c = int(input('Nhập số nguyên c:'))\n",
        "if a<0 or b<0 or c<0:\n",
        "  print('Lỗi')\n",
        "elif (a+b<=c) and (a+c<=b) and (b+c<=a) :\n",
        "  print('Không phải tam giác')\n",
        "else:\n",
        "  if a==b==c:\n",
        "    print('Tam giác đều')\n",
        "  elif a==b or a==c or b==c:\n",
        "    print('Tam giác cân')\n",
        "  else:\n",
        "    print('Tam giác thường')"
      ]
    }
  ],
  "metadata": {
    "colab": {
      "provenance": []
    },
    "kernelspec": {
      "display_name": "Python 3",
      "name": "python3"
    },
    "language_info": {
      "codemirror_mode": {
        "name": "ipython",
        "version": 3
      },
      "file_extension": ".py",
      "mimetype": "text/x-python",
      "name": "python",
      "nbconvert_exporter": "python",
      "pygments_lexer": "ipython3",
      "version": "3.13.7"
    }
  },
  "nbformat": 4,
  "nbformat_minor": 0
}

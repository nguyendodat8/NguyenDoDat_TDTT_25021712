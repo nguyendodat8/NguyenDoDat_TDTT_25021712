{
 "cells": [
  {
   "cell_type": "code",
   "execution_count": null,
   "id": "f8d32fd3",
   "metadata": {},
   "outputs": [],
   "source": [
    "print('Hello world!')"
   ]
  },
  {
   "cell_type": "code",
   "execution_count": null,
   "id": "5b11a821",
   "metadata": {},
   "outputs": [],
   "source": [
    "ten = input('Nhập họ tên:')\n",
    "print('Xin chào',ten)"
   ]
  },
  {
   "cell_type": "code",
   "execution_count": null,
   "id": "3d7f636b",
   "metadata": {},
   "outputs": [],
   "source": [
    "a = int(input('a='))\n",
    "b = int(input('b='))\n",
    "print('Tong cua a va b:',a+b)\n",
    "print('Hieu cua a va b:',a-b)\n",
    "print('Tich cua a va b:',a*b)\n",
    "print('Thuong cua a va b:',a/b)\n",
    "print('Phan nguyen trong phep chia a va b:',a//b)\n",
    "print('Phan du trong phep chia a va b:',a%b)"
   ]
  },
  {
   "cell_type": "code",
   "execution_count": null,
   "id": "7990e67b",
   "metadata": {},
   "outputs": [],
   "source": [
    "Điểm = input(\"Nhập 6 điểm a1 b1 c1 a2 b2 a3, cách nhau bởi dấu cách: \")\n",
    "a1, b1, c1, a2, b2, a3 = map(float, Điểm.split())\n",
    "tong_diem = (a1 + b1 + c1) + (a2 + b2) * 2 + a3 * 3\n",
    "diem_tb = tong_diem / 10\n",
    "ket_qua = round(diem_tb, 1)\n",
    "print('Điểm trung bình của môn học là:',ket_qua)"
   ]
  },
  {
   "cell_type": "code",
   "execution_count": null,
   "id": "58685b12",
   "metadata": {},
   "outputs": [],
   "source": [
    "a = int(input('a='))\n",
    "b = int(input('b='))\n",
    "print('Ket qua a mu b la:',a**b)"
   ]
  },
  {
   "cell_type": "code",
   "execution_count": null,
   "id": "6f405812",
   "metadata": {},
   "outputs": [],
   "source": [
    "a = input('Nhap chu cai a:')\n",
    "unicode = ord(a)\n",
    "print('Mã unicode của chữ cái là:',unicode)\n",
    "print(a.upper())"
   ]
  },
  {
   "cell_type": "code",
   "execution_count": null,
   "id": "35f29d2a",
   "metadata": {},
   "outputs": [],
   "source": [
    "A= ((13**2)*3) + 5\n",
    "B= 13**2*3 + 5\n",
    "print('A=',A)\n",
    "print('B=',B)"
   ]
  },
  {
   "cell_type": "code",
   "execution_count": null,
   "id": "ec4a1adb",
   "metadata": {},
   "outputs": [],
   "source": [
    "#Nhap do F tu ban phim\n",
    "C = float(input('Nhap do C:'))\n",
    "F = C*9/5+32\n",
    "ket_qua = round(F, 2)\n",
    "print('Kết quả chuyển đổi từ độ C sang độ F:', ket_qua) "
   ]
  },
  {
   "cell_type": "code",
   "execution_count": null,
   "id": "b2c9febe",
   "metadata": {},
   "outputs": [],
   "source": [
    "#Nhập giá trị của chiếc đồng hồ\n",
    "Gia = float(input('Nhap gia cua dong ho='))\n",
    "x = Gia + 10 + 0.3*Gia + 0.1*Gia\n",
    "ket_qua = round(x, 2)\n",
    "print('So tien ma Đạt phải tra là:$',ket_qua)"
   ]
  },
  {
   "cell_type": "code",
   "execution_count": null,
   "id": "40c54bdd",
   "metadata": {},
   "outputs": [],
   "source": [
    "#Nhập giá trị của chiếc đồng hồ\n",
    "Gia = float(input('Nhap gia cua dong ho='))\n",
    "x = Gia + 10 + 0.3*Gia + 0.1*Gia\n",
    "ket_qua = round(x, 2)\n",
    "print('So tien ma Đạt phải tra là:$',ket_qua)"
   ]
  },
  {
   "cell_type": "code",
   "execution_count": null,
   "id": "6508f0dc",
   "metadata": {},
   "outputs": [],
   "source": [
    "n = float(input('Nhập độ dài cạnh lập phương:'))\n",
    "if n<0:\n",
    "    print('Lỗi')\n",
    "else:\n",
    "    so_mieng_dan = 6*n**2\n",
    "    print('Số miếng con cần dùng là:',so_mieng_dan)"
   ]
  },
  {
   "cell_type": "code",
   "execution_count": null,
   "id": "e608559f",
   "metadata": {},
   "outputs": [],
   "source": [
    "a = float(input('Nhap so a:'))\n",
    "b = float(input('Nhap so b:'))\n",
    "c = a//b\n",
    "ket_qua = c%10\n",
    "print('Ket qua phan du phep chia a cho b la:',ket_qua)"
   ]
  },
  {
   "cell_type": "code",
   "execution_count": null,
   "id": "56aada61",
   "metadata": {},
   "outputs": [],
   "source": [
    "a = int(input('Nhap so a:'))\n",
    "b = int(input('Nhap so b:'))\n",
    "print('a=',a)\n",
    "print('b=',b)\n",
    "a =  a + b\n",
    "b =  a - b\n",
    "a =  a - b\n",
    "print('Bây giờ a là:',a)\n",
    "print('Bây giờ b là:',b)"
   ]
  },
  {
   "cell_type": "code",
   "execution_count": null,
   "id": "cc2e65e7",
   "metadata": {},
   "outputs": [],
   "source": [
    "n = int(input('Nhap so sao thu n:'))\n",
    "if n<=0:\n",
    "    print('Lỗi')\n",
    "if n>0:\n",
    "    so_sao = 3*n*(n-1)+1\n",
    "    print('So sao thu n la:',so_sao)"
   ]
  },
  {
   "cell_type": "code",
   "execution_count": null,
   "id": "8980dde9",
   "metadata": {},
   "outputs": [],
   "source": [
    "print(\"Spring\")\n",
    "print(\"Summer\")\n",
    "print(\"Autumn\")\n",
    "print(\"Winter\")\n",
    "# Cach thu 2\n",
    "print(\"Spring\\nSummer\\nAutumn\\nWinter\")\n",
    "# Cach thu 3\n",
    "lines = [\"Spring\",\"Summer\",\"Autumn\",\"Winter\"]\n",
    "for line in lines:\n",
    " print(line)"
   ]
  },
  {
   "cell_type": "code",
   "execution_count": null,
   "id": "adafa8f3",
   "metadata": {},
   "outputs": [],
   "source": [
    "print(\" \",\"*\")\n",
    "print(\"\",\"***\")\n",
    "print(\"*****\")"
   ]
  },
  {
   "cell_type": "code",
   "execution_count": null,
   "id": "7b016363",
   "metadata": {},
   "outputs": [],
   "source": [
    "print(\"### # #    ### ###\")\n",
    "print(\" #  #  #    #   #\")\n",
    "print(\" #  #   #   #   #\")\n",
    "print(\" #  #  #    #   #\")\n",
    "print(\" #  # #     #   #\")"
   ]
  },
  {
   "cell_type": "code",
   "execution_count": null,
   "id": "d2ddec0f",
   "metadata": {},
   "outputs": [],
   "source": [
    "lines = [\"Monday\", \"Tuesday\", \"Wednesday\",\"Thursday\",\"Friday\",\"Saturday\",\"Sunday\"]\n",
    "for line in lines:\n",
    "    print(line)"
   ]
  },
  {
   "cell_type": "code",
   "execution_count": null,
   "id": "7c0f5985",
   "metadata": {},
   "outputs": [],
   "source": [
    "lines = [\"January\",\"February\",\"March\",\"April\",\"May\",\"June\",\"July\",\"August\",\"September\",\"October\",\"November\",\"December\"]\n",
    "for line in lines : \n",
    "    print(line)"
   ]
  },
  {
   "cell_type": "code",
   "execution_count": null,
   "id": "de867812",
   "metadata": {},
   "outputs": [],
   "source": [
    "count = 0\n",
    "while count < 10:\n",
    "    print(\"Hello,world\")\n",
    "    count += 1"
   ]
  }
 ],
 "metadata": {
  "language_info": {
   "name": "python"
  }
 },
 "nbformat": 4,
 "nbformat_minor": 5
}

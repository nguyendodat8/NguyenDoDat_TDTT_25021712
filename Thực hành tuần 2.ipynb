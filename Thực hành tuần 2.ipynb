{
 "cells": [
  {
   "cell_type": "code",
   "execution_count": 4,
   "id": "e09a9c63",
   "metadata": {},
   "outputs": [
    {
     "name": "stdout",
     "output_type": "stream",
     "text": [
      "Kết quả là: 14\n"
     ]
    }
   ],
   "source": [
    "n = int(input('Nhập số nguyên n:'))\n",
    "ket_qua = 2*n\n",
    "print('Kết quả là:',ket_qua)"
   ]
  },
  {
   "cell_type": "code",
   "execution_count": null,
   "id": "afaf8887",
   "metadata": {},
   "outputs": [],
   "source": [
    "pi = 3.14\n",
    "a = float(input('Nhap chieu dai khu dat:'))\n",
    "b = float(input('Nhap chieu rong khu dat:'))\n",
    "c = float(input('Nhap ban kinh hinh tron:'))\n",
    "Dien_tich = a*b-c**2*pi\n",
    "S = round(Dien_tich,1)\n",
    "print('Dien tich trong cay la:',S)"
   ]
  },
  {
   "cell_type": "code",
   "execution_count": 6,
   "id": "0f356e08",
   "metadata": {},
   "outputs": [
    {
     "name": "stdout",
     "output_type": "stream",
     "text": [
      "Chữ cái hoa tương ứng là: D\n"
     ]
    }
   ],
   "source": [
    "c = input('Nhập một ký tự:')\n",
    "if len(c) != 1 or not c.isalpha():\n",
    "    print('Vui lòng nhập 1 ký tự')\n",
    "else:\n",
    "    if c.isupper():\n",
    "        print('Chữ cái thường tương ứng là:',c.lower())\n",
    "    if c.islower():\n",
    "        print('Chữ cái hoa tương ứng là:',c.upper())"
   ]
  },
  {
   "cell_type": "code",
   "execution_count": 9,
   "id": "b8e3b1ba",
   "metadata": {},
   "outputs": [
    {
     "name": "stdout",
     "output_type": "stream",
     "text": [
      "c là ký tự alphabet\n"
     ]
    }
   ],
   "source": [
    "c = input('Nhập một ký tự:')\n",
    "if len(c) !=1:\n",
    "    print('Vui lòng chỉ nhập 1 ký tự')\n",
    "else:\n",
    "    if c.isalpha():\n",
    "        print('c là ký tự alphabet')\n",
    "    else:\n",
    "        print('c không là ký tự alphabet')\n",
    "\n"
   ]
  },
  {
   "cell_type": "code",
   "execution_count": null,
   "id": "e2493030",
   "metadata": {},
   "outputs": [],
   "source": [
    "a = input('Nhập ký tự a:')\n",
    "if len(a) != 1 or not a.isupper():\n",
    "    print('Vui lòng chỉ nhập 1 ký tự')\n",
    "else:\n",
    "    if c == 'A':\n",
    "        print(\"Không có chữ cái thường liền trước chữ cái 'a'.\")\n",
    "    else:\n",
    "        # Chuyển sang chữ thường và lùi về 1 ký tự\n",
    "        truoc = chr(ord(c.lower()) - 1)\n",
    "        print(f\"Chữ cái thường liền trước chữ cái '{c.lower()}' là: '{truoc}'\")"
   ]
  },
  {
   "cell_type": "code",
   "execution_count": null,
   "id": "bc721ff7",
   "metadata": {},
   "outputs": [],
   "source": [
    "#Nhập độ dài 3 cạnh của tam giác\n",
    "import math\n",
    "a = float(input('Nhap do dai a:'))\n",
    "b = float(input('Nhap do dai b:'))\n",
    "c = float(input('Nhap do dai c:'))\n",
    "if \"a+b>c, b+c>a , a+c>b\":\n",
    "    print('a,b,c là 3 cạnh của 1 tam giác')\n",
    "    p = (a+b+c)/2\n",
    "    s = math.sqrt(p*(p-a)*(p-b)*(p-c))\n",
    "    print('Dien tich tam giac la:',s)\n",
    "else:\n",
    "    print('a,b,c không là 3 cạnh của tam giác')"
   ]
  },
  {
   "cell_type": "code",
   "execution_count": 12,
   "id": "f64b1f7a",
   "metadata": {},
   "outputs": [
    {
     "name": "stdout",
     "output_type": "stream",
     "text": [
      "Chữ cái thứ 5 là: e\n",
      "Chữ cái thứ 9 là: i\n"
     ]
    }
   ],
   "source": [
    "a = input('Nhập một chuỗi từ bàn phím:')\n",
    "if len(a) < 20:\n",
    "    print('Vui lòng nhập lại chuỗi')\n",
    "else:\n",
    "    print('Chữ cái thứ 5 là:',a[4])\n",
    "    print('Chữ cái thứ 9 là:',a[8])"
   ]
  },
  {
   "cell_type": "code",
   "execution_count": null,
   "id": "906f7d76",
   "metadata": {},
   "outputs": [],
   "source": [
    "ten = input('Nhap ho ten:')\n",
    "thang_truoc = int(input('Nhap chi so thang truoc:'))\n",
    "thang_nay = int(input('Nhap chi so thang nay:'))\n",
    "so_KWh = thang_nay - thang_truoc\n",
    "print('Chi so thang nay la:',so_KWh)\n",
    "if 0<so_KWh<50 :\n",
    "    tien_dien= 1984*so_KWh\n",
    "if 51<so_KWh<100 : \n",
    "    tien_dien= 1984*50+2050*(so_KWh-50)\n",
    "if 101<so_KWh<200 : \n",
    "    tien_dien= 1984*50+2050*50+2380*(so_KWh-100)\n",
    "if 201<so_KWh<300 :\n",
    "    tien_dien= 1984*50+2050*50+2380*100+2998*(so_KWh-200)\n",
    "if 301<so_KWh<400 :\n",
    "    tien_dien= 1984*50+2050*50+2380*100+2998*100+3350*(so_KWh-300)\n",
    "if so_KWh>401 :\n",
    "    tien_dien= 1984*50+2050*50+2380*100+2998*100+3350*100+3460*(so_KWh-400)\n",
    "print('Tien phai tra la:',tien_dien)"
   ]
  },
  {
   "cell_type": "code",
   "execution_count": null,
   "id": "a645c19b",
   "metadata": {},
   "outputs": [],
   "source": [
    "a = int(input('Nhap so a:'))\n",
    "if a%2 == 0:\n",
    "    print('a là số chẵn')\n",
    "else:\n",
    "    print('a là số lẻ')"
   ]
  },
  {
   "cell_type": "code",
   "execution_count": null,
   "id": "76631b06",
   "metadata": {},
   "outputs": [],
   "source": [
    "a = int(input('Nhap so a:'))\n",
    "if a%10 == 5:\n",
    "    print('Số tận cùng của a là 5')\n",
    "else:\n",
    "    print('Số tận cùng của a không là 5')"
   ]
  },
  {
   "cell_type": "code",
   "execution_count": null,
   "id": "84a3d316",
   "metadata": {},
   "outputs": [],
   "source": [
    "a = int(input('Nhập số cần kiểm tra:'))\n",
    "if a%15 == 0:\n",
    "    print('Số chia hết cho 3 và 5')\n",
    "else:\n",
    "    print('Số không chia hết cho 3 và 5')"
   ]
  },
  {
   "cell_type": "code",
   "execution_count": 5,
   "id": "56c75679",
   "metadata": {},
   "outputs": [
    {
     "name": "stdout",
     "output_type": "stream",
     "text": [
      "Bạn đã đủ tuổi bầu cử\n"
     ]
    }
   ],
   "source": [
    "nam_sinh = int(input('Nhập năm sinh:'))\n",
    "tuoi = 2025 - nam_sinh\n",
    "if tuoi < 18:\n",
    "    print('Bạn chưa đủ tuổi bầu cử')\n",
    "else:\n",
    "    print('Bạn đã đủ tuổi bầu cử')"
   ]
  },
  {
   "cell_type": "code",
   "execution_count": null,
   "id": "145afc6c",
   "metadata": {},
   "outputs": [],
   "source": [
    "a = int(input('Nhập số a:'))\n",
    "b = int(input('Nhập số b:'))\n",
    "if a>b:\n",
    "    print('Số lớn hơn là a')\n",
    "if a<b:\n",
    "    print('Số lớn hơn là b')\n",
    "else:\n",
    "    print('Hai số bằng nhau')"
   ]
  },
  {
   "cell_type": "code",
   "execution_count": null,
   "id": "9698c704",
   "metadata": {},
   "outputs": [],
   "source": [
    "diem_tk = float(input('Nhập điểm tổng kết:'))\n",
    "if diem_tk>10 or diem_tk<0:\n",
    "    print('Điểm tổng kết nhập không đúng định dạng')\n",
    "if 8<=diem_tk<10:\n",
    "    print('Giỏi')\n",
    "if 6.5<=diem_tk<8:\n",
    "    print('Khá')\n",
    "if 5<=diem_tk<6.5:\n",
    "    print('Trung bình')\n",
    "if 0<diem_tk<5 :\n",
    "    print('Yếu')"
   ]
  },
  {
   "cell_type": "code",
   "execution_count": null,
   "id": "6ff4add5",
   "metadata": {},
   "outputs": [],
   "source": [
    "nam = int(input('Nhập năm cần kiểm tra:'))\n",
    "if nam%400 == 0:\n",
    "    print('Năm đó là năm nhuận')\n",
    "if nam%4 == 0 and nam%100 != 0:\n",
    "    print('Năm đó là năm nhuận')\n",
    "else:\n",
    "    print('Năm đó không là năm nhuận')"
   ]
  },
  {
   "cell_type": "code",
   "execution_count": null,
   "id": "12f48815",
   "metadata": {},
   "outputs": [],
   "source": [
    "# Nhập một ký tự từ người dùng\n",
    "ky_tu = input(\"Nhập một ký tự: \")\n",
    "\n",
    "# Kiểm tra độ dài ký tự\n",
    "if len(ky_tu) != 1:\n",
    "    print(\"Vui lòng chỉ nhập một ký tự.\")\n",
    "else:\n",
    "    # Kiểm tra ký tự là chữ cái hay chữ số\n",
    "    if ky_tu.isalpha():\n",
    "        print(\"Ký tự là chữ cái.\")\n",
    "    elif ky_tu.isdigit():\n",
    "        print(\"Ký tự là chữ số.\")\n",
    "    else:\n",
    "        print(\"Ký tự không phải là chữ cái hay chữ số.\")"
   ]
  },
  {
   "cell_type": "code",
   "execution_count": null,
   "id": "e5ffb288",
   "metadata": {},
   "outputs": [],
   "source": [
    "so = int(input('Nhập một số nguyên từ 0 đến 9:'))\n",
    "match so:\n",
    "    case 0:\n",
    "        print('Không')\n",
    "    case 1:\n",
    "        print('Một')\n",
    "    case 2:\n",
    "        print('Hai')\n",
    "    case 3:\n",
    "        print('Ba')\n",
    "    case 4:\n",
    "        print('Bốn')\n",
    "    case 5:\n",
    "        print('Năm')\n",
    "    case 6:\n",
    "        print('Sáu')\n",
    "    case 7:\n",
    "        print('Bảy')\n",
    "    case 8:\n",
    "        print('Tám')\n",
    "    case 9:\n",
    "        print('Chín')\n",
    "    case _:\n",
    "        print('Lỗi')"
   ]
  },
  {
   "cell_type": "code",
   "execution_count": null,
   "id": "3d23ce11",
   "metadata": {},
   "outputs": [],
   "source": [
    "# Nhập điểm thi\n",
    "diem_thi = float(input('Nhap diem thi:'))\n",
    "if diem_thi >=4:\n",
    "    print('Qua môn')\n",
    "else:\n",
    "    print('Học lại')"
   ]
  },
  {
   "cell_type": "code",
   "execution_count": null,
   "id": "413383d4",
   "metadata": {},
   "outputs": [],
   "source": [
    "nam_sinh = int(input('Nhập năm sinh của bạn:'))\n",
    "tuoi = 2025 - nam_sinh\n",
    "if tuoi < 18:\n",
    "    print('Bạn chưa đủ 18 tuổi')\n",
    "else:\n",
    "    print('Bạn đã đủ 18 tuổi')"
   ]
  }
 ],
 "metadata": {
  "kernelspec": {
   "display_name": "Python 3",
   "language": "python",
   "name": "python3"
  },
  "language_info": {
   "codemirror_mode": {
    "name": "ipython",
    "version": 3
   },
   "file_extension": ".py",
   "mimetype": "text/x-python",
   "name": "python",
   "nbconvert_exporter": "python",
   "pygments_lexer": "ipython3",
   "version": "3.13.7"
  }
 },
 "nbformat": 4,
 "nbformat_minor": 5
}
